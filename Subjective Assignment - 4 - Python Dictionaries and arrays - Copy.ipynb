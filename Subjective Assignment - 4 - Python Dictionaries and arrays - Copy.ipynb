{
 "cells": [
  {
   "cell_type": "markdown",
   "metadata": {},
   "source": [
    "# Assignment"
   ]
  },
  {
   "cell_type": "markdown",
   "metadata": {},
   "source": [
    "Q1. Write the Python program to create an instance of an OrderedDict \n",
    "using the given dictionary and sort dictionary during the\n",
    "creation and print members of the dictionary in reverse order?\n",
    "\n",
    "    Expected OutputAngola 244.\n",
    "    Andorra 376.\n",
    "    Algeria 213.\n",
    "    Afghanistan 93.\n",
    "    Albania 355.\n",
    "    In reverse orderAlbania 355.\n",
    "    Afghanistan 93.\n",
    "    Algeria 213.\n",
    "    Andorra 376.\n",
    "    Angola 244."
   ]
  },
  {
   "cell_type": "code",
   "execution_count": 3,
   "metadata": {},
   "outputs": [
    {
     "name": "stdout",
     "output_type": "stream",
     "text": [
      "Andorra 376\n",
      "Algeria 213\n",
      "Afghanistan 93\n",
      "Albania 355\n",
      "Angola 244\n",
      "\n",
      "In reverse order:\n",
      "Angola 244\n",
      "Albania 355\n",
      "Afghanistan 93\n",
      "Algeria 213\n",
      "Andorra 376\n"
     ]
    }
   ],
   "source": [
    "from collections import OrderedDict\n",
    "country={'Andorra':376,'Algeria':213,'Afghanistan':93,'Albania':355,'Angola':244}\n",
    "new_country=OrderedDict(country.items())\n",
    "for i in new_country:\n",
    "    print(i,new_country[i])\n",
    "print(\"\\nIn reverse order:\")\n",
    "for i in reversed(new_country):\n",
    "    print(i,new_country[i])"
   ]
  },
  {
   "cell_type": "markdown",
   "metadata": {},
   "source": [
    "Q2. Write the Python program to compare two unordered lists (not\n",
    "sets)?\n",
    " \n",
    "     Expected Output: False"
   ]
  },
  {
   "cell_type": "code",
   "execution_count": 4,
   "metadata": {},
   "outputs": [
    {
     "name": "stdout",
     "output_type": "stream",
     "text": [
      "False\n"
     ]
    }
   ],
   "source": [
    "from collections import Counter\n",
    "def compare_list(x,y):\n",
    "    return Counter(x) == Counter(y)\n",
    "l1=[20,6,27,6,20,27]\n",
    "l2=[27,20,6,27,6,25]\n",
    "print(compare_list(l1,l2))"
   ]
  },
  {
   "cell_type": "markdown",
   "metadata": {},
   "source": [
    "Q3. Write the Python program to get an array buffer information?\n",
    "\n",
    "    Expected OutputArray buffer start address in memory and number of elements.\n",
    "    (25855056, 2)\n"
   ]
  },
  {
   "cell_type": "code",
   "execution_count": 7,
   "metadata": {},
   "outputs": [
    {
     "name": "stdout",
     "output_type": "stream",
     "text": [
      "Array buffer start address in memory and number of elements : (926640214896, 2)\n"
     ]
    }
   ],
   "source": [
    "from array import array\n",
    "my_array=array('i',[6,20])\n",
    "print(\"Array buffer start address in memory and number of elements : {}\".format(my_array.buffer_info()))"
   ]
  },
  {
   "cell_type": "markdown",
   "metadata": {},
   "source": [
    "Q4. Write the Python program to convert an array to an array of\n",
    "machine values and return the bytes representation?\n",
    "\n",
    "    Expected OutputOriginal arrayA1: array('i', [1, 2, 3, 4, 5, 6])\n",
    "    Array of bytes:\n",
    "    b'010000000200000003000000040000000500000006000000"
   ]
  },
  {
   "cell_type": "code",
   "execution_count": 10,
   "metadata": {},
   "outputs": [
    {
     "name": "stdout",
     "output_type": "stream",
     "text": [
      "Original Array : array('i', [1, 2, 3, 4, 5, 6])\n",
      "Array of bytes:b'010000000200000003000000040000000500000006000000'\n"
     ]
    }
   ],
   "source": [
    "import array\n",
    "import binascii\n",
    "a=array.array('i',[1, 2, 3, 4, 5, 6])\n",
    "bytes_array = a.tobytes()\n",
    "print(\"Original Array : {}\\nArray of bytes:{}\".format(a,binascii.hexlify(bytes_array)))\n"
   ]
  },
  {
   "cell_type": "markdown",
   "metadata": {},
   "source": [
    "Q5. Write the Python program to read a string and interpreting the\n",
    "string as an array of machine values?\n",
    "\n",
    "    Expected Outputarray1- array('i', [7, 8, 9, 10])\n",
    "    Bytes- b'0700000008000000090000000a000000'\n",
    "    array2- array('i', [7, 8, 9, 10])"
   ]
  },
  {
   "cell_type": "code",
   "execution_count": 18,
   "metadata": {},
   "outputs": [
    {
     "name": "stdout",
     "output_type": "stream",
     "text": [
      "Array1 : array('i', [7, 8, 9, 10])\n",
      "Array of bytes:b'0700000008000000090000000a000000'\n",
      "Array2:array('i', [7, 8, 9, 10])\n"
     ]
    }
   ],
   "source": [
    "import array\n",
    "import binascii\n",
    "a=array.array('i', [7, 8, 9, 10])\n",
    "as_bytes=a.tobytes()\n",
    "a2=array.array('i')\n",
    "a2.frombytes(as_bytes)\n",
    "print(\"Array1 : {}\\nArray of bytes:{}\\nArray2:{}\".format(a,binascii.hexlify(as_bytes),a2))\n"
   ]
  },
  {
   "cell_type": "markdown",
   "metadata": {},
   "source": [
    "Q6. Write the Python program to push three items into the heap and\n",
    "return the smallest item from the heap. Also, return and pop the\n",
    "smallest item from the heap?\n",
    "    \n",
    "    Expected OutputItems in the heap-\n",
    "    ('VI', 1).\n",
    "    ('VII', 3).\n",
    "    ('VIII', 2).\n",
    "    ----------------------\n",
    "    The smallest item in the heap:\n",
    "    ('VI', 1).\n",
    "     ----------------------\n",
    "    Pop the smallest item in the heap:\n",
    "    ('VII', 2).\n",
    "    ('VIII', 3)."
   ]
  },
  {
   "cell_type": "code",
   "execution_count": 21,
   "metadata": {},
   "outputs": [
    {
     "name": "stdout",
     "output_type": "stream",
     "text": [
      "Items in the heap:('VI', 1)\n",
      "Items in the heap:('VII', 3)\n",
      "Items in the heap:('VIII', 2)\n",
      "------------------------------------------------------------\n",
      "The smallest item in the heap:('VI', 1)\n",
      "------------------------------------------------------------\n",
      "Pop the smallest item in the heap:('VII', 3)\n",
      "Pop the smallest item in the heap:('VIII', 2)\n"
     ]
    }
   ],
   "source": [
    "import heapq\n",
    "heap = []\n",
    "heapq.heappush(heap,('VI',1))\n",
    "heapq.heappush(heap,('VII',3))\n",
    "heapq.heappush(heap,('VIII',2))\n",
    "for i in heap:\n",
    "    print(\"Items in the heap:{}\".format(i))\n",
    "print(\"-\"*60)\n",
    "print(\"The smallest item in the heap:{}\".format(heap[0]))\n",
    "print(\"-\"*60)\n",
    "heapq.heappop(heap)\n",
    "for a in heap:\n",
    "    print(\"Pop the smallest item in the heap:{}\".format(a))"
   ]
  },
  {
   "cell_type": "markdown",
   "metadata": {},
   "source": [
    "Q7. Write the Python program to locate the left insertion point for a\n",
    "specified value in sorted order?\n",
    "\n",
    "    Expected Output:\n",
    "    4\n",
    "    2"
   ]
  },
  {
   "cell_type": "code",
   "execution_count": 22,
   "metadata": {},
   "outputs": [
    {
     "name": "stdout",
     "output_type": "stream",
     "text": [
      "4\n",
      "2\n"
     ]
    }
   ],
   "source": [
    "import bisect\n",
    "def index(a,x):\n",
    "    i=bisect.bisect_left(a,x)\n",
    "    return i\n",
    "a=[1,2,3,4]\n",
    "print(index(a,6))\n",
    "print(index(a,3))"
   ]
  },
  {
   "cell_type": "markdown",
   "metadata": {},
   "source": [
    "Q8. Write the Python program to create the FIFO queue?\n",
    "\n",
    "    Expected Output:\n",
    "    0 1 2 3"
   ]
  },
  {
   "cell_type": "code",
   "execution_count": 35,
   "metadata": {},
   "outputs": [
    {
     "name": "stdout",
     "output_type": "stream",
     "text": [
      "Output:\n",
      "0 1 2 3 "
     ]
    }
   ],
   "source": [
    "import queue\n",
    "q=queue.Queue()\n",
    "for i in range(4):\n",
    "    q.put(str(i))\n",
    "print(\"Output:\")\n",
    "while not q.empty():\n",
    "    print(q.get(),end=\" \")"
   ]
  },
  {
   "cell_type": "markdown",
   "metadata": {},
   "source": [
    "Q9. Write the Python program to calculate the harmonic sum of n-1.\n",
    " Note: The harmonic sum is the sum of reciprocals of the positive\n",
    "Integers?\n",
    "\n",
    "    Example:\n",
    "    1+1/2+1/3+1/4+1/5+...."
   ]
  },
  {
   "cell_type": "code",
   "execution_count": 37,
   "metadata": {},
   "outputs": [
    {
     "name": "stdout",
     "output_type": "stream",
     "text": [
      "3.597739657143682\n"
     ]
    }
   ],
   "source": [
    "def harmonic_sum(n):\n",
    "    if n<2:\n",
    "        return 1\n",
    "    else:\n",
    "        return 1/n + (harmonic_sum(n-1))\n",
    "print(harmonic_sum(20))"
   ]
  },
  {
   "cell_type": "markdown",
   "metadata": {},
   "source": [
    "## Great Job!"
   ]
  }
 ],
 "metadata": {
  "kernelspec": {
   "display_name": "Python 3",
   "language": "python",
   "name": "python3"
  },
  "language_info": {
   "codemirror_mode": {
    "name": "ipython",
    "version": 3
   },
   "file_extension": ".py",
   "mimetype": "text/x-python",
   "name": "python",
   "nbconvert_exporter": "python",
   "pygments_lexer": "ipython3",
   "version": "3.6.8"
  }
 },
 "nbformat": 4,
 "nbformat_minor": 2
}
